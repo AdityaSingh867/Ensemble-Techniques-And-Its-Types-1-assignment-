{
 "cells": [
  {
   "cell_type": "markdown",
   "id": "8fd10661-c5e9-4530-a0ee-811dfc7fe6b2",
   "metadata": {},
   "source": [
    "Q1. What is an ensemble technique in machine learning?"
   ]
  },
  {
   "cell_type": "markdown",
   "id": "70fbdd6e-871e-477c-827d-d81c0ba3a122",
   "metadata": {},
   "source": [
    "Ensemble is a machine learning technique in which we use many machine learning algorithms for pridection of the model , this prediction much better than the other individual machine algorithm model prediction technique."
   ]
  },
  {
   "cell_type": "markdown",
   "id": "67aaf7f3-b9c5-4baa-91e4-c92a67da7af9",
   "metadata": {},
   "source": [
    "Q2. Why are ensemble techniques used in machine learning?"
   ]
  },
  {
   "cell_type": "markdown",
   "id": "3299ce93-877a-4c27-9911-efdc69599273",
   "metadata": {},
   "source": [
    "Bescause this is better then the individual machine learning algorithms to predict model accuracy , and it is reduce overfitting."
   ]
  },
  {
   "cell_type": "markdown",
   "id": "085fbed6-b925-4a14-95d6-136240c76be2",
   "metadata": {},
   "source": [
    "Q3. What is bagging?"
   ]
  },
  {
   "cell_type": "markdown",
   "id": "70fd7a73-0502-4d5f-9f94-493aecedd94e",
   "metadata": {},
   "source": [
    "Bagging technique , let consider we have a dataset with 'n' numbers of rows and 'm' numbers of columns and than we diveded the dataset columns and rows and give it to many machine learning algorithms that are called base learners , remember that the columns and rows of dataset that we give it to the algorithms it is less than the real numbers of columns and rows , these machine learning algorithms is only Decision tree algorithms because we use only Decision learning algorithms in Bagging technique , after dividing the dataset and giving to the base learners , these all base learners pridect the score and give output in this output many output like '0' and many '1' in classifire type of dataset if the optput like Regressor type than we take the average of the outputs , in classfire dataset for final result we use aggregate and make the final result , we know that maxmimum number of outputs which are same that is the final result. this all processs is called Bagging."
   ]
  },
  {
   "cell_type": "markdown",
   "id": "87207e45-9992-4d5e-825c-af31bcd50107",
   "metadata": {},
   "source": [
    "Q4. What is boosting?"
   ]
  },
  {
   "cell_type": "markdown",
   "id": "1b7856b4-529e-4157-bd07-d4855848521e",
   "metadata": {},
   "source": [
    "Boosting is a method used in machine learning to reduce errors in predictive data analysis."
   ]
  },
  {
   "cell_type": "markdown",
   "id": "4b04923b-9a87-40a6-9da1-b8c5e45af0d3",
   "metadata": {},
   "source": [
    "Q5. What are the benefits of using ensemble techniques?"
   ]
  },
  {
   "cell_type": "markdown",
   "id": "722b665d-950e-4117-acbe-fb89f56ac23b",
   "metadata": {},
   "source": [
    "- An ensemble can make better predictions and achieve better performance than any single contributing model.\n",
    "- An ensemble reduces the spread or dispersion of the predictions and model performance."
   ]
  },
  {
   "cell_type": "markdown",
   "id": "f7060e43-fcb7-408d-9124-9ac94d3195bf",
   "metadata": {},
   "source": [
    "Q6. Are ensemble techniques always better than individual models?"
   ]
  },
  {
   "cell_type": "markdown",
   "id": "956ae101-3572-4d0d-b7b2-0bee363bb871",
   "metadata": {},
   "source": [
    "Yes "
   ]
  },
  {
   "cell_type": "markdown",
   "id": "1964dc81-ca36-4253-8755-9706bf69d7c8",
   "metadata": {},
   "source": [
    "Q7. How is the confidence interval calculated using bootstrap?"
   ]
  },
  {
   "cell_type": "markdown",
   "id": "8c2e1529-9775-4620-a3c3-9c642e21ccc6",
   "metadata": {},
   "source": [
    "Bootstrap confidence interval is a statistical method for inference that does not make strong distributional assumptions. It involves drawing samples with replacement from sample data and computing the statistic of interest for each sample. The CI is then obtained by finding the middle percentage of the statistics from the samples."
   ]
  },
  {
   "cell_type": "markdown",
   "id": "164131f9-cd51-49ba-8d43-4554cd7e9adf",
   "metadata": {},
   "source": [
    "Q8. How does bootstrap work and What are the steps involved in bootstrap?"
   ]
  },
  {
   "cell_type": "markdown",
   "id": "92299a73-6690-481e-a28f-95a74daa7786",
   "metadata": {},
   "source": [
    "- Choose the number of bootstrap sample to performance like number of Decision tree for prediction\n",
    "- Choose a sample size for the dataset\n",
    "- and this bootstrap calculate the prediction output\n",
    "- calculate the mean of the outputs"
   ]
  },
  {
   "cell_type": "markdown",
   "id": "45452331-4b9b-4aa5-876c-a234ec0dedfd",
   "metadata": {},
   "source": [
    "Q9. A researcher wants to estimate the mean height of a population of trees. They measure the height of a\n",
    "sample of 50 trees and obtain a mean height of 15 meters and a standard deviation of 2 meters. Use\n",
    "bootstrap to estimate the 95% confidence interval for the population mean height."
   ]
  },
  {
   "cell_type": "code",
   "execution_count": 12,
   "id": "2549c394-3d58-492e-9077-2eac96b9f178",
   "metadata": {},
   "outputs": [
    {
     "name": "stdout",
     "output_type": "stream",
     "text": [
      "95% Confidence Interval : [15.00 , 15.00]\n"
     ]
    }
   ],
   "source": [
    "import numpy as np\n",
    "sample_height = np.array([15] * 50)\n",
    "num_iteration = 1000\n",
    "bootstrap_mean = []\n",
    "for i in range(num_iteration):\n",
    "    bootstrap_sample = np.random.choice(sample_height , size=len(sample_height) , replace=True)\n",
    "    bootstrap_means = np.mean(bootstrap_sample)\n",
    "    bootstrap_mean.append(bootstrap_means)\n",
    "    \n",
    "lower_percentile = np.percentile(bootstrap_mean , 2.5)\n",
    "upper_percentile = np.percentile(bootstrap_mean , 97.5)\n",
    "print(\"95% Confidence Interval : [{:.2f} , {:.2f}]\".format(lower_percentile , upper_percentile))"
   ]
  }
 ],
 "metadata": {
  "kernelspec": {
   "display_name": "Python 3 (ipykernel)",
   "language": "python",
   "name": "python3"
  },
  "language_info": {
   "codemirror_mode": {
    "name": "ipython",
    "version": 3
   },
   "file_extension": ".py",
   "mimetype": "text/x-python",
   "name": "python",
   "nbconvert_exporter": "python",
   "pygments_lexer": "ipython3",
   "version": "3.10.8"
  }
 },
 "nbformat": 4,
 "nbformat_minor": 5
}
